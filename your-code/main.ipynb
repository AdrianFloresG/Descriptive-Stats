{
  "cells": [
    {
      "cell_type": "markdown",
      "metadata": {
        "id": "ZbcdQAoOCKRu"
      },
      "source": [
        "# Understanding Descriptive Statistics\n",
        "\n",
        "Import the necessary libraries here:"
      ]
    },
    {
      "cell_type": "code",
      "execution_count": 2,
      "metadata": {
        "id": "pQud9l_2CKRx"
      },
      "outputs": [],
      "source": [
        "# Libraries\n",
        "import pandas as pd\n",
        "import numpy as np"
      ]
    },
    {
      "cell_type": "markdown",
      "metadata": {
        "id": "-DsSe7pDCKRy"
      },
      "source": [
        "## Challenge 1\n",
        "#### 1.- Define a function that simulates rolling a dice 10 times. Save the information in a dataframe.\n",
        "**Hint**: you can use the *choices* function from module *random* to help you with the simulation."
      ]
    },
    {
      "cell_type": "code",
      "execution_count": 13,
      "metadata": {
        "id": "484BPROpCKRy",
        "colab": {
          "base_uri": "https://localhost:8080/",
          "height": 363
        },
        "outputId": "1fa2f6e8-46c7-420b-ac56-f2faa98da9ac"
      },
      "outputs": [
        {
          "output_type": "execute_result",
          "data": {
            "text/plain": [
              "   0\n",
              "0  6\n",
              "1  3\n",
              "2  4\n",
              "3  3\n",
              "4  5\n",
              "5  1\n",
              "6  5\n",
              "7  1\n",
              "8  3\n",
              "9  3"
            ],
            "text/html": [
              "\n",
              "  <div id=\"df-f123e319-554d-4a81-8124-166e68b3801b\">\n",
              "    <div class=\"colab-df-container\">\n",
              "      <div>\n",
              "<style scoped>\n",
              "    .dataframe tbody tr th:only-of-type {\n",
              "        vertical-align: middle;\n",
              "    }\n",
              "\n",
              "    .dataframe tbody tr th {\n",
              "        vertical-align: top;\n",
              "    }\n",
              "\n",
              "    .dataframe thead th {\n",
              "        text-align: right;\n",
              "    }\n",
              "</style>\n",
              "<table border=\"1\" class=\"dataframe\">\n",
              "  <thead>\n",
              "    <tr style=\"text-align: right;\">\n",
              "      <th></th>\n",
              "      <th>0</th>\n",
              "    </tr>\n",
              "  </thead>\n",
              "  <tbody>\n",
              "    <tr>\n",
              "      <th>0</th>\n",
              "      <td>6</td>\n",
              "    </tr>\n",
              "    <tr>\n",
              "      <th>1</th>\n",
              "      <td>3</td>\n",
              "    </tr>\n",
              "    <tr>\n",
              "      <th>2</th>\n",
              "      <td>4</td>\n",
              "    </tr>\n",
              "    <tr>\n",
              "      <th>3</th>\n",
              "      <td>3</td>\n",
              "    </tr>\n",
              "    <tr>\n",
              "      <th>4</th>\n",
              "      <td>5</td>\n",
              "    </tr>\n",
              "    <tr>\n",
              "      <th>5</th>\n",
              "      <td>1</td>\n",
              "    </tr>\n",
              "    <tr>\n",
              "      <th>6</th>\n",
              "      <td>5</td>\n",
              "    </tr>\n",
              "    <tr>\n",
              "      <th>7</th>\n",
              "      <td>1</td>\n",
              "    </tr>\n",
              "    <tr>\n",
              "      <th>8</th>\n",
              "      <td>3</td>\n",
              "    </tr>\n",
              "    <tr>\n",
              "      <th>9</th>\n",
              "      <td>3</td>\n",
              "    </tr>\n",
              "  </tbody>\n",
              "</table>\n",
              "</div>\n",
              "      <button class=\"colab-df-convert\" onclick=\"convertToInteractive('df-f123e319-554d-4a81-8124-166e68b3801b')\"\n",
              "              title=\"Convert this dataframe to an interactive table.\"\n",
              "              style=\"display:none;\">\n",
              "        \n",
              "  <svg xmlns=\"http://www.w3.org/2000/svg\" height=\"24px\"viewBox=\"0 0 24 24\"\n",
              "       width=\"24px\">\n",
              "    <path d=\"M0 0h24v24H0V0z\" fill=\"none\"/>\n",
              "    <path d=\"M18.56 5.44l.94 2.06.94-2.06 2.06-.94-2.06-.94-.94-2.06-.94 2.06-2.06.94zm-11 1L8.5 8.5l.94-2.06 2.06-.94-2.06-.94L8.5 2.5l-.94 2.06-2.06.94zm10 10l.94 2.06.94-2.06 2.06-.94-2.06-.94-.94-2.06-.94 2.06-2.06.94z\"/><path d=\"M17.41 7.96l-1.37-1.37c-.4-.4-.92-.59-1.43-.59-.52 0-1.04.2-1.43.59L10.3 9.45l-7.72 7.72c-.78.78-.78 2.05 0 2.83L4 21.41c.39.39.9.59 1.41.59.51 0 1.02-.2 1.41-.59l7.78-7.78 2.81-2.81c.8-.78.8-2.07 0-2.86zM5.41 20L4 18.59l7.72-7.72 1.47 1.35L5.41 20z\"/>\n",
              "  </svg>\n",
              "      </button>\n",
              "      \n",
              "  <style>\n",
              "    .colab-df-container {\n",
              "      display:flex;\n",
              "      flex-wrap:wrap;\n",
              "      gap: 12px;\n",
              "    }\n",
              "\n",
              "    .colab-df-convert {\n",
              "      background-color: #E8F0FE;\n",
              "      border: none;\n",
              "      border-radius: 50%;\n",
              "      cursor: pointer;\n",
              "      display: none;\n",
              "      fill: #1967D2;\n",
              "      height: 32px;\n",
              "      padding: 0 0 0 0;\n",
              "      width: 32px;\n",
              "    }\n",
              "\n",
              "    .colab-df-convert:hover {\n",
              "      background-color: #E2EBFA;\n",
              "      box-shadow: 0px 1px 2px rgba(60, 64, 67, 0.3), 0px 1px 3px 1px rgba(60, 64, 67, 0.15);\n",
              "      fill: #174EA6;\n",
              "    }\n",
              "\n",
              "    [theme=dark] .colab-df-convert {\n",
              "      background-color: #3B4455;\n",
              "      fill: #D2E3FC;\n",
              "    }\n",
              "\n",
              "    [theme=dark] .colab-df-convert:hover {\n",
              "      background-color: #434B5C;\n",
              "      box-shadow: 0px 1px 3px 1px rgba(0, 0, 0, 0.15);\n",
              "      filter: drop-shadow(0px 1px 2px rgba(0, 0, 0, 0.3));\n",
              "      fill: #FFFFFF;\n",
              "    }\n",
              "  </style>\n",
              "\n",
              "      <script>\n",
              "        const buttonEl =\n",
              "          document.querySelector('#df-f123e319-554d-4a81-8124-166e68b3801b button.colab-df-convert');\n",
              "        buttonEl.style.display =\n",
              "          google.colab.kernel.accessAllowed ? 'block' : 'none';\n",
              "\n",
              "        async function convertToInteractive(key) {\n",
              "          const element = document.querySelector('#df-f123e319-554d-4a81-8124-166e68b3801b');\n",
              "          const dataTable =\n",
              "            await google.colab.kernel.invokeFunction('convertToInteractive',\n",
              "                                                     [key], {});\n",
              "          if (!dataTable) return;\n",
              "\n",
              "          const docLinkHtml = 'Like what you see? Visit the ' +\n",
              "            '<a target=\"_blank\" href=https://colab.research.google.com/notebooks/data_table.ipynb>data table notebook</a>'\n",
              "            + ' to learn more about interactive tables.';\n",
              "          element.innerHTML = '';\n",
              "          dataTable['output_type'] = 'display_data';\n",
              "          await google.colab.output.renderOutput(dataTable, element);\n",
              "          const docLink = document.createElement('div');\n",
              "          docLink.innerHTML = docLinkHtml;\n",
              "          element.appendChild(docLink);\n",
              "        }\n",
              "      </script>\n",
              "    </div>\n",
              "  </div>\n",
              "  "
            ]
          },
          "metadata": {},
          "execution_count": 13
        }
      ],
      "source": [
        "# your code here\n",
        "from random import randint\n",
        "\n",
        "roll_dice = []\n",
        "\n",
        "for i in range(10):\n",
        "  #print(\"You rolled\",randint(1,6))\n",
        "  roll_dice.append(randint(1,6))\n",
        "\n",
        "df_dice = pd.DataFrame(roll_dice)\n",
        "df_dice = df_dice.rename(columns={\"0\": \"Results\"})\n",
        "df_dice"
      ]
    },
    {
      "cell_type": "markdown",
      "metadata": {
        "id": "qheR16_JCKRy"
      },
      "source": [
        "#### 2.- Plot the results sorted by value."
      ]
    },
    {
      "cell_type": "code",
      "execution_count": 21,
      "metadata": {
        "id": "iuN-BCDdCKRy",
        "colab": {
          "base_uri": "https://localhost:8080/",
          "height": 317
        },
        "outputId": "53acead5-3e37-40bb-91e3-42ae6494d180"
      },
      "outputs": [
        {
          "output_type": "execute_result",
          "data": {
            "text/plain": [
              "(array([2., 0., 0., 0., 4., 0., 1., 0., 2., 1.]),\n",
              " array([1. , 1.5, 2. , 2.5, 3. , 3.5, 4. , 4.5, 5. , 5.5, 6. ]),\n",
              " <a list of 10 Patch objects>)"
            ]
          },
          "metadata": {},
          "execution_count": 21
        },
        {
          "output_type": "display_data",
          "data": {
            "text/plain": [
              "<Figure size 432x288 with 1 Axes>"
            ],
            "image/png": "[encoded data removed]"
          },
          "metadata": {
            "needs_background": "light"
          }
        }
      ],
      "source": [
        "# your code here\n",
        "import matplotlib.pyplot as plt\n",
        "df_dice.columns = ['value']\n",
        "df_dice = df_dice.sort_values(by='value', ascending=False)\n",
        "plt.hist(df_dice['value'])"
      ]
    },
    {
      "cell_type": "markdown",
      "metadata": {
        "id": "qWO0UTx1CKRz"
      },
      "source": [
        "#### 3.- Calculate the frequency distribution and plot it. What is the relation between this plot and the plot above? Describe it with words."
      ]
    },
    {
      "cell_type": "code",
      "execution_count": 40,
      "metadata": {
        "id": "yfEUOa4uCKRz",
        "colab": {
          "base_uri": "https://localhost:8080/",
          "height": 386
        },
        "outputId": "7fd51b63-b400-4cb9-8f81-4a4068fb1053"
      },
      "outputs": [
        {
          "output_type": "stream",
          "name": "stdout",
          "text": [
            "   Number  Frequency\n",
            "1       1          2\n",
            "0       3          4\n",
            "3       4          1\n",
            "2       5          2\n",
            "4       6          1\n"
          ]
        },
        {
          "output_type": "execute_result",
          "data": {
            "text/plain": [
              "<BarContainer object of 5 artists>"
            ]
          },
          "metadata": {},
          "execution_count": 40
        },
        {
          "output_type": "display_data",
          "data": {
            "text/plain": [
              "<Figure size 432x288 with 1 Axes>"
            ],
            "image/png": "[encoded data removed]"
          },
          "metadata": {
            "needs_background": "light"
          }
        }
      ],
      "source": [
        "# your code here\n",
        "\n",
        "freq_dist = df_dice.value_counts().reset_index() \n",
        "freq_dist.columns = ['Number', 'Frequency']\n",
        "freq_dist = freq_dist.sort_values('Number')\n",
        "print (freq_dist)\n",
        "plt.bar(freq_dist['Number'],freq_dist['Frequency'])"
      ]
    },
    {
      "cell_type": "code",
      "execution_count": null,
      "metadata": {
        "id": "5tgt_tBFCKRz"
      },
      "outputs": [],
      "source": [
        "\"\"\"\n",
        "Graphs are exactly the same\n",
        "\"\"\""
      ]
    },
    {
      "cell_type": "markdown",
      "metadata": {
        "id": "S9r7K4ShCKR0"
      },
      "source": [
        "## Challenge 2\n",
        "Now, using the dice results obtained in *challenge 1*, your are going to define some functions that will help you calculate the mean of your data in two different ways, the median and the four quartiles. \n",
        "\n",
        "#### 1.- Define a function that computes the mean by summing all the observations and dividing by the total number of observations. You are not allowed to use any methods or functions that directly calculate the mean value. "
      ]
    },
    {
      "cell_type": "code",
      "execution_count": 48,
      "metadata": {
        "id": "ZXIj1pVzCKR0",
        "colab": {
          "base_uri": "https://localhost:8080/"
        },
        "outputId": "6b829e2c-cbc8-4216-aa66-8fd059943803"
      },
      "outputs": [
        {
          "output_type": "stream",
          "name": "stdout",
          "text": [
            "value    3.4\n",
            "dtype: float64\n"
          ]
        }
      ],
      "source": [
        "# your code here\n",
        "def mean(df):\n",
        "  return np.sum(df)/len(df)\n",
        "print(mean(df_dice))"
      ]
    },
    {
      "cell_type": "markdown",
      "metadata": {
        "id": "jWPLN5DWCKR0"
      },
      "source": [
        "#### 2.- First, calculate the frequency distribution. Then, calculate the mean using the values of the frequency distribution you've just computed. You are not allowed to use any methods or functions that directly calculate the mean value. "
      ]
    },
    {
      "cell_type": "code",
      "execution_count": 63,
      "metadata": {
        "id": "RX2hFoLkCKR0",
        "colab": {
          "base_uri": "https://localhost:8080/"
        },
        "outputId": "4bd882ad-ea22-453b-bb4c-cd061642e4cb"
      },
      "outputs": [
        {
          "output_type": "execute_result",
          "data": {
            "text/plain": [
              "3.4"
            ]
          },
          "metadata": {},
          "execution_count": 63
        }
      ],
      "source": [
        "# your code here\n",
        "\n",
        "def total_freq(df):\n",
        "  return df['Number']*df['Frequency'] \n",
        "total_freq(freq_dist).sum()/df_dice['value'].value_counts().sum()\n"
      ]
    },
    {
      "cell_type": "markdown",
      "metadata": {
        "id": "kzcblc7nCKR1"
      },
      "source": [
        "#### 3.- Define a function to calculate the median. You are not allowed to use any methods or functions that directly calculate the median value. \n",
        "**Hint**: you might need to define two computation cases depending on the number of observations used to calculate the median."
      ]
    },
    {
      "cell_type": "code",
      "source": [
        "\n",
        "def median(col):\n",
        "  range = int(col.count())\n",
        "  sorted_col = col.sort_values()\n",
        "  list1_sorted = sorted_col.to_list()\n",
        "\n",
        "  if range % 2 == 0:\n",
        "    return (list1_sorted[int(range/2)]+list1_sorted[int((range/2)-1)])/2\n",
        "  else:\n",
        "    return list1_sorted[int((range/2)-0.5)]\n",
        "\n",
        "median(df_dice['value'])\n"
      ],
      "metadata": {
        "colab": {
          "base_uri": "https://localhost:8080/"
        },
        "id": "8WooR4p2rB-S",
        "outputId": "70ef4631-39bf-43a2-9c43-bd6580f6cad5"
      },
      "execution_count": 97,
      "outputs": [
        {
          "output_type": "execute_result",
          "data": {
            "text/plain": [
              "3.0"
            ]
          },
          "metadata": {},
          "execution_count": 97
        }
      ]
    },
    {
      "cell_type": "markdown",
      "metadata": {
        "id": "7-HqDOFzCKR1"
      },
      "source": [
        "#### 4.- Define a function to calculate the four quartiles. You can use the function you defined above to compute the median but you are not allowed to use any methods or functions that directly calculate the quartiles. "
      ]
    },
    {
      "cell_type": "code",
      "execution_count": 114,
      "metadata": {
        "id": "tDHRkIRqCKR1",
        "colab": {
          "base_uri": "https://localhost:8080/"
        },
        "outputId": "f92a19fe-07c1-4bf1-f960-19e8918d206c"
      },
      "outputs": [
        {
          "output_type": "execute_result",
          "data": {
            "text/plain": [
              "5"
            ]
          },
          "metadata": {},
          "execution_count": 114
        }
      ],
      "source": [
        "# your code here\n",
        "\n",
        "def median_lst(list1):\n",
        "  range = int(len(list1))\n",
        "  list1.sort()\n",
        "  if range % 2 == 0:\n",
        "    return (list1[int(range/2)]+list1[int((range/2)-1)])/2\n",
        "  else:\n",
        "    return list1[int((range/2)-0.5)]\n",
        "\n",
        "list2 = [1,4,5,6,3,5,67,7,8]\n",
        "median_lst(list2)"
      ]
    },
    {
      "cell_type": "code",
      "source": [
        "\n",
        "mid_pos = int(len(list2)/2)\n",
        "\n",
        "# First quartile\n",
        "print(median_lst(list2[:mid_pos]))\n",
        "# Second quartile\n",
        "print(median_lst(list2))\n",
        "# Third quartile\n",
        "print(median_lst(list2[mid_pos:]))\n"
      ],
      "metadata": {
        "colab": {
          "base_uri": "https://localhost:8080/"
        },
        "id": "yDcbKgKLy6wa",
        "outputId": "c6ce2667-80c9-44f8-9e29-c73056582e82"
      },
      "execution_count": 124,
      "outputs": [
        {
          "output_type": "stream",
          "name": "stdout",
          "text": [
            "3.5\n",
            "5\n",
            "7\n"
          ]
        }
      ]
    },
    {
      "cell_type": "markdown",
      "metadata": {
        "id": "cEVKKLKOCKR1"
      },
      "source": [
        "## Challenge 3\n",
        "Read the csv `roll_the_dice_hundred.csv` from the `data` folder.\n",
        "#### 1.- Sort the values and plot them. What do you see?"
      ]
    },
    {
      "cell_type": "code",
      "execution_count": 128,
      "metadata": {
        "id": "2v2VQC_pCKR2",
        "colab": {
          "base_uri": "https://localhost:8080/"
        },
        "outputId": "e3ed5794-75a9-4252-fc31-4b7423221cdd"
      },
      "outputs": [
        {
          "output_type": "execute_result",
          "data": {
            "text/plain": [
              "6    23\n",
              "4    22\n",
              "2    17\n",
              "3    14\n",
              "1    12\n",
              "5    12\n",
              "Name: value, dtype: int64"
            ]
          },
          "metadata": {},
          "execution_count": 128
        }
      ],
      "source": [
        "# your code here\n",
        "dice_hundred = pd.read_csv('roll_the_dice_hundred.csv')\n",
        "dice_hundred['value'].value_counts()"
      ]
    },
    {
      "cell_type": "code",
      "source": [
        "dice_hundred = dice_hundred.sort_values(by='value', ascending=False)\n",
        "plt.hist(dice_hundred['value'])"
      ],
      "metadata": {
        "colab": {
          "base_uri": "https://localhost:8080/",
          "height": 317
        },
        "id": "JkUY6mNi5_lF",
        "outputId": "0f977924-f73f-445d-d770-b0a1b45681e7"
      },
      "execution_count": 129,
      "outputs": [
        {
          "output_type": "execute_result",
          "data": {
            "text/plain": [
              "(array([12.,  0., 17.,  0., 14.,  0., 22.,  0., 12., 23.]),\n",
              " array([1. , 1.5, 2. , 2.5, 3. , 3.5, 4. , 4.5, 5. , 5.5, 6. ]),\n",
              " <a list of 10 Patch objects>)"
            ]
          },
          "metadata": {},
          "execution_count": 129
        },
        {
          "output_type": "display_data",
          "data": {
            "text/plain": [
              "<Figure size 432x288 with 1 Axes>"
            ],
            "image/png": "[encoded data removed]"
          },
          "metadata": {
            "needs_background": "light"
          }
        }
      ]
    },
    {
      "cell_type": "code",
      "execution_count": null,
      "metadata": {
        "id": "OT6ZUhBQCKR2"
      },
      "outputs": [],
      "source": [
        "\"\"\"\n",
        "I expected the value to be more even, but it looks like the number of rolls are not enough to make them even.\n",
        "\"\"\""
      ]
    },
    {
      "cell_type": "markdown",
      "metadata": {
        "id": "jblAFKW3CKR2"
      },
      "source": [
        "#### 2.- Using the functions you defined in *challenge 2*, calculate the mean value of the hundred dice rolls."
      ]
    },
    {
      "cell_type": "code",
      "execution_count": 130,
      "metadata": {
        "id": "89IyMy2xCKR2",
        "colab": {
          "base_uri": "https://localhost:8080/"
        },
        "outputId": "cf410b55-f1d6-44ef-f155-aee3c48494c0"
      },
      "outputs": [
        {
          "output_type": "stream",
          "name": "stdout",
          "text": [
            "3.74\n"
          ]
        }
      ],
      "source": [
        "# your code here\n",
        "print(mean(dice_hundred['value']))"
      ]
    },
    {
      "cell_type": "markdown",
      "metadata": {
        "id": "APJvRJzrCKR3"
      },
      "source": [
        "#### 3.- Now, calculate the frequency distribution.\n"
      ]
    },
    {
      "cell_type": "code",
      "execution_count": 137,
      "metadata": {
        "id": "3mecPiskCKR3",
        "colab": {
          "base_uri": "https://localhost:8080/"
        },
        "outputId": "0cc48f04-089e-4615-bad7-4ee8cfab90bb"
      },
      "outputs": [
        {
          "output_type": "stream",
          "name": "stdout",
          "text": [
            "   Number  Frequency\n",
            "0       6         23\n",
            "1       4         22\n",
            "2       2         17\n",
            "3       3         14\n",
            "4       5         12\n",
            "5       1         12\n"
          ]
        }
      ],
      "source": [
        "# your code here\n",
        "freq_dist1 = dice_hundred['value'].value_counts().reset_index() \n",
        "freq_dist1.columns = ['Number', 'Frequency']\n",
        "freq_dist = freq_dist1.sort_values('Number')\n",
        "print (freq_dist1)"
      ]
    },
    {
      "cell_type": "markdown",
      "metadata": {
        "id": "PxZZk_WbCKR3"
      },
      "source": [
        "#### 4.- Plot the histogram. What do you see (shape, values...) ? How can you connect the mean value to the histogram? "
      ]
    },
    {
      "cell_type": "code",
      "execution_count": 138,
      "metadata": {
        "id": "hzF8wjqQCKR3",
        "colab": {
          "base_uri": "https://localhost:8080/",
          "height": 282
        },
        "outputId": "1ae8dd07-a19a-4bee-a77c-a5972884d5b7"
      },
      "outputs": [
        {
          "output_type": "execute_result",
          "data": {
            "text/plain": [
              "<BarContainer object of 6 artists>"
            ]
          },
          "metadata": {},
          "execution_count": 138
        },
        {
          "output_type": "display_data",
          "data": {
            "text/plain": [
              "<Figure size 432x288 with 1 Axes>"
            ],
            "image/png": "[encoded data removed]"
          },
          "metadata": {
            "needs_background": "light"
          }
        }
      ],
      "source": [
        "# your code here\n",
        "plt.bar(freq_dist1['Number'],freq_dist1['Frequency'])"
      ]
    },
    {
      "cell_type": "code",
      "execution_count": 139,
      "metadata": {
        "id": "-uIDIuNSCKR3",
        "colab": {
          "base_uri": "https://localhost:8080/",
          "height": 53
        },
        "outputId": "31abf679-9f6a-4821-8bc3-18a65e85a0c7"
      },
      "outputs": [
        {
          "output_type": "execute_result",
          "data": {
            "text/plain": [
              "'\\nyour comments here\\nFor a normal roll dice frequency, mean should be 3, but, as we can see on the graph, we got more times 4 and 6 than others, so,\\nits normal that our mean tends to go to the right (3.75)\\n'"
            ],
            "application/vnd.google.colaboratory.intrinsic+json": {
              "type": "string"
            }
          },
          "metadata": {},
          "execution_count": 139
        }
      ],
      "source": [
        "\"\"\"\n",
        "your comments here\n",
        "For a normal roll dice frequency, mean should be 3, but, as we can see on the graph, we got more times 4 and 6 than others, so,\n",
        "its normal that our mean tends to go to the right (3.75)\n",
        "\"\"\""
      ]
    },
    {
      "cell_type": "markdown",
      "metadata": {
        "id": "ktX1yIXQCKR4"
      },
      "source": [
        "#### 5.- Read the `roll_the_dice_thousand.csv` from the `data` folder. Plot the frequency distribution as you did before. Has anything changed? Why do you think it changed?"
      ]
    },
    {
      "cell_type": "code",
      "execution_count": 142,
      "metadata": {
        "id": "dFKuj2YlCKR4",
        "colab": {
          "base_uri": "https://localhost:8080/",
          "height": 282
        },
        "outputId": "347eec8a-645c-4c75-b344-a358e4cca052"
      },
      "outputs": [
        {
          "output_type": "execute_result",
          "data": {
            "text/plain": [
              "<BarContainer object of 6 artists>"
            ]
          },
          "metadata": {},
          "execution_count": 142
        },
        {
          "output_type": "display_data",
          "data": {
            "text/plain": [
              "<Figure size 432x288 with 1 Axes>"
            ],
            "image/png": "[encoded data removed]"
          },
          "metadata": {
            "needs_background": "light"
          }
        }
      ],
      "source": [
        "# your code here\n",
        "dice_thousand = pd.read_csv('roll_the_dice_thousand.csv')\n",
        "freq_dist2 = dice_thousand['value'].value_counts().reset_index() \n",
        "freq_dist2.columns = ['Number', 'Frequency']\n",
        "freq_dist2 = freq_dist2.sort_values('Number')\n",
        "plt.bar(freq_dist2['Number'],freq_dist2['Frequency'])"
      ]
    },
    {
      "cell_type": "code",
      "execution_count": 143,
      "metadata": {
        "id": "lQxgxyqLCKR4",
        "colab": {
          "base_uri": "https://localhost:8080/",
          "height": 36
        },
        "outputId": "0b760800-19c0-4c86-c9e7-5591c78b1888"
      },
      "outputs": [
        {
          "output_type": "execute_result",
          "data": {
            "text/plain": [
              "'\\nAs expected the results got normalized, and looks like we got similar values for the frequencies of each number from 1 to 6\\n'"
            ],
            "application/vnd.google.colaboratory.intrinsic+json": {
              "type": "string"
            }
          },
          "metadata": {},
          "execution_count": 143
        }
      ],
      "source": [
        "\"\"\"\n",
        "As expected the results got normalized, and looks like we got similar values for the frequencies of each number from 1 to 6\n",
        "\"\"\""
      ]
    },
    {
      "cell_type": "markdown",
      "metadata": {
        "id": "57kHeaukCKR4"
      },
      "source": [
        "## Challenge 4\n",
        "In the `data` folder of this repository you will find three different files with the prefix `ages_population`. These files contain information about a poll answered by a thousand people regarding their age. Each file corresponds to the poll answers in different neighbourhoods of Barcelona.\n",
        "\n",
        "#### 1.- Read the file `ages_population.csv`. Calculate the frequency distribution and plot it as we did during the lesson. Try to guess the range in which the mean and the standard deviation will be by looking at the plot. "
      ]
    },
    {
      "cell_type": "code",
      "execution_count": 161,
      "metadata": {
        "id": "Z0XLsGX3CKR5",
        "colab": {
          "base_uri": "https://localhost:8080/",
          "height": 543
        },
        "outputId": "3f845a1a-c3f3-425f-b607-0b26c895bc03"
      },
      "outputs": [
        {
          "output_type": "stream",
          "name": "stdout",
          "text": [
            "observation\n",
            "39.0           45\n",
            "41.0           36\n",
            "30.0           34\n",
            "35.0           33\n",
            "43.0           32\n",
            "               ..\n",
            "69.0            1\n",
            "70.0            1\n",
            "71.0            1\n",
            "73.0            1\n",
            "82.0            1\n",
            "Length: 72, dtype: int64\n"
          ]
        },
        {
          "output_type": "execute_result",
          "data": {
            "text/plain": [
              "(array([ 17.,  59., 115., 204., 261., 194.,  99.,  36.,  14.,   1.]),\n",
              " array([ 1. ,  9.1, 17.2, 25.3, 33.4, 41.5, 49.6, 57.7, 65.8, 73.9, 82. ]),\n",
              " <a list of 10 Patch objects>)"
            ]
          },
          "metadata": {},
          "execution_count": 161
        },
        {
          "output_type": "display_data",
          "data": {
            "text/plain": [
              "<Figure size 432x288 with 1 Axes>"
            ],
            "image/png": "[encoded data removed]"
          },
          "metadata": {
            "needs_background": "light"
          }
        }
      ],
      "source": [
        "# your code here\n",
        "ages = pd.read_csv('ages_population.csv')\n",
        "ages_dist = ages.value_counts()\n",
        "print(ages_dist)\n",
        "plt.hist(ages['observation'])\n"
      ]
    },
    {
      "cell_type": "code",
      "source": [
        "'''\n",
        "Gess mean is close to 35 and dont know how to guess estandar deviation through the eye... I guess I can take a value between the mean\n",
        "and the max value (as it looks symmetric)(45 for example) and substrate the mean... so It could be 10.\n",
        "'''"
      ],
      "metadata": {
        "colab": {
          "base_uri": "https://localhost:8080/",
          "height": 53
        },
        "id": "3Sva2_SJAim-",
        "outputId": "cc9de437-5f07-48dd-be01-86a534765269"
      },
      "execution_count": 163,
      "outputs": [
        {
          "output_type": "execute_result",
          "data": {
            "text/plain": [
              "'\\nGess mean is close to 35 and dont know how to guess estandar deviation through the eye... I guess I can take a value between the mean\\nand the max value (as it looks symmetric)(45 for example) and substrate the mean... so It could be 10.\\n'"
            ],
            "application/vnd.google.colaboratory.intrinsic+json": {
              "type": "string"
            }
          },
          "metadata": {},
          "execution_count": 163
        }
      ]
    },
    {
      "cell_type": "markdown",
      "metadata": {
        "id": "J_BkF0_pCKR5"
      },
      "source": [
        "#### 2.- Calculate the exact mean and standard deviation and compare them with your guesses. Do they fall inside the ranges you guessed?"
      ]
    },
    {
      "cell_type": "code",
      "execution_count": 166,
      "metadata": {
        "id": "31BZiq-qCKR5",
        "colab": {
          "base_uri": "https://localhost:8080/"
        },
        "outputId": "44862f3a-2f2e-4b5f-9550-e3e27f706e4a"
      },
      "outputs": [
        {
          "output_type": "stream",
          "name": "stdout",
          "text": [
            "36.56\n",
            "12.81649962597677\n"
          ]
        }
      ],
      "source": [
        "# your code here\n",
        "print(ages['observation'].mean())\n",
        "print(ages['observation'].std())"
      ]
    },
    {
      "cell_type": "code",
      "execution_count": 167,
      "metadata": {
        "id": "e1eQTYg9CKR5",
        "colab": {
          "base_uri": "https://localhost:8080/",
          "height": 36
        },
        "outputId": "7c7b4651-038f-4607-ba5f-f2e68ebe1cc8"
      },
      "outputs": [
        {
          "output_type": "execute_result",
          "data": {
            "text/plain": [
              "'\\nPretty close!\\n'"
            ],
            "application/vnd.google.colaboratory.intrinsic+json": {
              "type": "string"
            }
          },
          "metadata": {},
          "execution_count": 167
        }
      ],
      "source": [
        "\"\"\"\n",
        "Pretty close!\n",
        "\"\"\""
      ]
    },
    {
      "cell_type": "markdown",
      "metadata": {
        "id": "WufsllmlCKR5"
      },
      "source": [
        "#### 3.- Now read the file `ages_population2.csv` . Calculate the frequency distribution and plot it."
      ]
    },
    {
      "cell_type": "code",
      "execution_count": 168,
      "metadata": {
        "id": "cqcVB02FCKR6",
        "colab": {
          "base_uri": "https://localhost:8080/",
          "height": 664
        },
        "outputId": "64e00b55-6906-429e-bddf-42b861af61df"
      },
      "outputs": [
        {
          "output_type": "stream",
          "name": "stdout",
          "text": [
            "observation\n",
            "28.0           139\n",
            "27.0           125\n",
            "26.0           120\n",
            "29.0           115\n",
            "25.0            98\n",
            "30.0            90\n",
            "24.0            78\n",
            "31.0            61\n",
            "23.0            41\n",
            "22.0            35\n",
            "32.0            31\n",
            "33.0            22\n",
            "21.0            17\n",
            "20.0            13\n",
            "34.0             7\n",
            "35.0             3\n",
            "19.0             3\n",
            "36.0             2\n",
            "dtype: int64\n"
          ]
        },
        {
          "output_type": "execute_result",
          "data": {
            "text/plain": [
              "(array([ 16.,  52., 119.,  98., 245., 254.,  90.,  92.,  29.,   5.]),\n",
              " array([19. , 20.7, 22.4, 24.1, 25.8, 27.5, 29.2, 30.9, 32.6, 34.3, 36. ]),\n",
              " <a list of 10 Patch objects>)"
            ]
          },
          "metadata": {},
          "execution_count": 168
        },
        {
          "output_type": "display_data",
          "data": {
            "text/plain": [
              "<Figure size 432x288 with 1 Axes>"
            ],
            "image/png": "[encoded data removed]"
          },
          "metadata": {
            "needs_background": "light"
          }
        }
      ],
      "source": [
        "# your code here\n",
        "ages2 = pd.read_csv('ages_population2.csv')\n",
        "ages_dist2 = ages2.value_counts()\n",
        "print(ages_dist2)\n",
        "plt.hist(ages2['observation'])"
      ]
    },
    {
      "cell_type": "markdown",
      "metadata": {
        "id": "MeNJTMyKCKR6"
      },
      "source": [
        "####  4.- What do you see? Is there any difference with the frequency distribution in step 1?"
      ]
    },
    {
      "cell_type": "code",
      "execution_count": null,
      "metadata": {
        "id": "WwjCWjHeCKR6"
      },
      "outputs": [],
      "source": [
        "\"\"\"\n",
        "Yes, ages are more concentrated at the center.\n",
        "\"\"\""
      ]
    },
    {
      "cell_type": "markdown",
      "metadata": {
        "id": "pebrJL3hCKR6"
      },
      "source": [
        "#### 5.- Calculate the mean and standard deviation. Compare the results with the mean and standard deviation in step 2. What do you think?"
      ]
    },
    {
      "cell_type": "code",
      "execution_count": 169,
      "metadata": {
        "id": "4Fk3QAGBCKR6",
        "colab": {
          "base_uri": "https://localhost:8080/"
        },
        "outputId": "fc5675a5-bc92-4333-e222-1d3f6a7dd900"
      },
      "outputs": [
        {
          "output_type": "stream",
          "name": "stdout",
          "text": [
            "27.155\n",
            "2.9698139326891835\n"
          ]
        }
      ],
      "source": [
        "# your code here\n",
        "print(ages2['observation'].mean())\n",
        "print(ages2['observation'].std())"
      ]
    },
    {
      "cell_type": "code",
      "execution_count": 170,
      "metadata": {
        "id": "wX_dzlYZCKR6",
        "colab": {
          "base_uri": "https://localhost:8080/",
          "height": 36
        },
        "outputId": "498d6505-7609-4c46-a85e-6947864c9657"
      },
      "outputs": [
        {
          "output_type": "execute_result",
          "data": {
            "text/plain": [
              "'\\nMean is also close to the middle because is symmetrical, but, the std is lower as there are more ages close to the center (mean)\\n'"
            ],
            "application/vnd.google.colaboratory.intrinsic+json": {
              "type": "string"
            }
          },
          "metadata": {},
          "execution_count": 170
        }
      ],
      "source": [
        "\"\"\"\n",
        "Mean is also close to the middle because is symmetrical, but, the std is lower as there are more ages close to the center (mean)\n",
        "\"\"\""
      ]
    },
    {
      "cell_type": "markdown",
      "metadata": {
        "id": "LqfWLyLQCKR7"
      },
      "source": [
        "## Challenge 5\n",
        "Now is the turn of `ages_population3.csv`.\n",
        "\n",
        "#### 1.- Read the file `ages_population3.csv`. Calculate the frequency distribution and plot it."
      ]
    },
    {
      "cell_type": "code",
      "execution_count": 171,
      "metadata": {
        "id": "F8w2IPttCKR7",
        "colab": {
          "base_uri": "https://localhost:8080/",
          "height": 543
        },
        "outputId": "4e57d71b-c9d7-4a5d-8c08-0998c5c7fbe4"
      },
      "outputs": [
        {
          "output_type": "stream",
          "name": "stdout",
          "text": [
            "observation\n",
            "32.0           37\n",
            "37.0           31\n",
            "35.0           31\n",
            "39.0           29\n",
            "36.0           26\n",
            "               ..\n",
            "8.0             1\n",
            "7.0             1\n",
            "5.0             1\n",
            "76.0            1\n",
            "1.0             1\n",
            "Length: 75, dtype: int64\n"
          ]
        },
        {
          "output_type": "execute_result",
          "data": {
            "text/plain": [
              "(array([  8.,  33.,  78., 158., 187., 174., 133.,  57., 117.,  55.]),\n",
              " array([ 1. ,  8.6, 16.2, 23.8, 31.4, 39. , 46.6, 54.2, 61.8, 69.4, 77. ]),\n",
              " <a list of 10 Patch objects>)"
            ]
          },
          "metadata": {},
          "execution_count": 171
        },
        {
          "output_type": "display_data",
          "data": {
            "text/plain": [
              "<Figure size 432x288 with 1 Axes>"
            ],
            "image/png": "[encoded data removed]"
          },
          "metadata": {
            "needs_background": "light"
          }
        }
      ],
      "source": [
        "# your code here\n",
        "ages3 = pd.read_csv('ages_population3.csv')\n",
        "ages_dist3 = ages3.value_counts()\n",
        "print(ages_dist3)\n",
        "plt.hist(ages3['observation'])"
      ]
    },
    {
      "cell_type": "markdown",
      "metadata": {
        "id": "Q5lNA40VCKR7"
      },
      "source": [
        "#### 2.- Calculate the mean and standard deviation. Compare the results with the plot in step 1. What is happening?"
      ]
    },
    {
      "cell_type": "code",
      "execution_count": 172,
      "metadata": {
        "id": "Q_Pc5RhfCKR7",
        "colab": {
          "base_uri": "https://localhost:8080/"
        },
        "outputId": "ea754da4-1b8f-4ffc-8a30-f3f17d1c9f43"
      },
      "outputs": [
        {
          "output_type": "stream",
          "name": "stdout",
          "text": [
            "41.989\n",
            "16.14470595986593\n"
          ]
        }
      ],
      "source": [
        "# your code here\n",
        "print(ages3['observation'].mean())\n",
        "print(ages3['observation'].std())"
      ]
    },
    {
      "cell_type": "code",
      "execution_count": 173,
      "metadata": {
        "id": "U129p_gwCKR7",
        "colab": {
          "base_uri": "https://localhost:8080/",
          "height": 53
        },
        "outputId": "9fc3715c-7de6-486d-802e-6b169d2829e2"
      },
      "outputs": [
        {
          "output_type": "execute_result",
          "data": {
            "text/plain": [
              "'\\nThere are more people into the right of the graph, thats why the mean is higher.\\nThe std is also higher as it doesnt not look to be a concentration around the mean\\n'"
            ],
            "application/vnd.google.colaboratory.intrinsic+json": {
              "type": "string"
            }
          },
          "metadata": {},
          "execution_count": 173
        }
      ],
      "source": [
        "\"\"\"\n",
        "There are more people into the right of the graph, thats why the mean is higher.\n",
        "The std is also higher as it doesnt not look to be a concentration around the mean\n",
        "\"\"\""
      ]
    },
    {
      "cell_type": "markdown",
      "metadata": {
        "id": "G5vtwLijCKR8"
      },
      "source": [
        "#### 3.- Calculate the four quartiles. Use the results to explain your reasoning for question in step 2. How much of a difference is there between the median and the mean?"
      ]
    },
    {
      "cell_type": "code",
      "execution_count": 175,
      "metadata": {
        "id": "Y8jmaAe-CKR8",
        "colab": {
          "base_uri": "https://localhost:8080/"
        },
        "outputId": "d15da494-c848-43fe-f760-d37ff8c57416"
      },
      "outputs": [
        {
          "output_type": "stream",
          "name": "stdout",
          "text": [
            "30.0\n",
            "40.0\n",
            "53.0\n"
          ]
        }
      ],
      "source": [
        "# your code here\n",
        "Q1 = ages3['observation'].quantile(.25)\n",
        "print(Q1)\n",
        "Q2 = ages3['observation'].quantile(.5)\n",
        "print(Q2)\n",
        "Q3 = ages3['observation'].quantile(.75)\n",
        "print(Q3)"
      ]
    },
    {
      "cell_type": "code",
      "execution_count": null,
      "metadata": {
        "id": "fNBg7zfxCKR8"
      },
      "outputs": [],
      "source": [
        "\"\"\"\n",
        "Median and mean are pretty close values, that means that it has a normal shape distribution.\n",
        "\"\"\""
      ]
    },
    {
      "cell_type": "markdown",
      "metadata": {
        "id": "KvkAU3qjCKR8"
      },
      "source": [
        "#### 4.- Calculate other percentiles that might be useful to give more arguments to your reasoning."
      ]
    },
    {
      "cell_type": "code",
      "execution_count": 184,
      "metadata": {
        "id": "uGxzOPc6CKR8",
        "colab": {
          "base_uri": "https://localhost:8080/"
        },
        "outputId": "a5dfb269-3220-4ff7-a144-fde152045db1"
      },
      "outputs": [
        {
          "output_type": "execute_result",
          "data": {
            "text/plain": [
              "array([22., 36., 45., 67.])"
            ]
          },
          "metadata": {},
          "execution_count": 184
        }
      ],
      "source": [
        "# your code here\n",
        "age_np = ages3['observation'].to_numpy()\n",
        "age_np\n",
        "np.percentile(age_np,[10,40,60,90])"
      ]
    },
    {
      "cell_type": "code",
      "execution_count": 185,
      "metadata": {
        "id": "IBiNZ_ExCKR8",
        "colab": {
          "base_uri": "https://localhost:8080/",
          "height": 36
        },
        "outputId": "13009127-ffd5-42e1-ddc4-b43a9c1216bc"
      },
      "outputs": [
        {
          "output_type": "execute_result",
          "data": {
            "text/plain": [
              "'\\nDifference between 2 first percentiles are 14, and 12 for the other two. These means that there are more old people at our dataset\\n'"
            ],
            "application/vnd.google.colaboratory.intrinsic+json": {
              "type": "string"
            }
          },
          "metadata": {},
          "execution_count": 185
        }
      ],
      "source": [
        "\"\"\"\n",
        "Difference between 2 first percentiles are 14, and 12 for the other two. These means that there are more old people at our dataset\n",
        "\"\"\""
      ]
    },
    {
      "cell_type": "markdown",
      "metadata": {
        "id": "HjTwm1BHCKR8"
      },
      "source": [
        "## Bonus challenge\n",
        "Compare the information about the three neighbourhoods. Prepare a report about the three of them. Remember to find out which are their similarities and their differences backing your arguments in basic statistics."
      ]
    },
    {
      "cell_type": "code",
      "execution_count": null,
      "metadata": {
        "id": "eVWokm-JCKR9"
      },
      "outputs": [],
      "source": [
        "# your code here"
      ]
    },
    {
      "cell_type": "code",
      "execution_count": null,
      "metadata": {
        "id": "xqYfKLv1CKR9"
      },
      "outputs": [],
      "source": [
        "\"\"\"\n",
        "your comments here\n",
        "\"\"\""
      ]
    }
  ],
  "metadata": {
    "kernelspec": {
      "display_name": "ironhack-3.7",
      "language": "python",
      "name": "ironhack-3.7"
    },
    "language_info": {
      "codemirror_mode": {
        "name": "ipython",
        "version": 3
      },
      "file_extension": ".py",
      "mimetype": "text/x-python",
      "name": "python",
      "nbconvert_exporter": "python",
      "pygments_lexer": "ipython3",
      "version": "3.7.3"
    },
    "colab": {
      "provenance": []
    }
  },
  "nbformat": 4,
  "nbformat_minor": 0
}